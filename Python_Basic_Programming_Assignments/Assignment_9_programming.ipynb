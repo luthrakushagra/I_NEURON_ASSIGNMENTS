{
 "cells": [
  {
   "cell_type": "markdown",
   "id": "6c8d51aa",
   "metadata": {},
   "source": [
    "# Assignment_9_programming"
   ]
  },
  {
   "cell_type": "markdown",
   "id": "e6fa90d5",
   "metadata": {},
   "source": [
    "## 1. Write a Python program to check if the given number is a Disarium Number?\n",
    "\n",
    "\n",
    "\n",
    "\n"
   ]
  },
  {
   "cell_type": "code",
   "execution_count": null,
   "id": "f75f1261",
   "metadata": {},
   "outputs": [],
   "source": [
    "def checkdisarium():\n",
    "    k=input(\"Enter the number \")\n",
    "    a=0\n",
    "    for i in range(len(k)):\n",
    "        a=int(k[i])**(i+1)+a\n",
    "        \n",
    "    if a==int(k):\n",
    "        print(\"The number is Disarium\")\n",
    "    else:\n",
    "        print(\"The number is not Disarium\")\n",
    "        \n",
    "checkdisarium()\n",
    "checkdisarium()\n",
    "        \n",
    "\n"
   ]
  },
  {
   "cell_type": "markdown",
   "id": "97b8e6f7",
   "metadata": {},
   "source": [
    "# 2. Write a Python program to print all disarium numbers between 1 to 100?"
   ]
  },
  {
   "cell_type": "code",
   "execution_count": null,
   "id": "5e3df005",
   "metadata": {},
   "outputs": [],
   "source": [
    "def disarium(m,n):\n",
    "    disarium_list=[]\n",
    "    for i in range(m,n+1):\n",
    "        a=0\n",
    "        for j in range(len(str(i))):\n",
    "            a=int(str(i)[j])**(j+1)+a\n",
    "\n",
    "        if a==i:\n",
    "            disarium_list.append(i)\n",
    "            \n",
    "    return(disarium_list)\n",
    "            \n",
    "disarium(1,100)\n",
    "    "
   ]
  },
  {
   "cell_type": "markdown",
   "id": "e00f10e2",
   "metadata": {},
   "source": [
    "# 3. Write a Python program to check if the given number is Happy Number?"
   ]
  },
  {
   "cell_type": "code",
   "execution_count": 8,
   "id": "ae8786ec",
   "metadata": {},
   "outputs": [
    {
     "name": "stdout",
     "output_type": "stream",
     "text": [
      "The number is happy\n",
      "The number is happy\n",
      "The number is not happy \n"
     ]
    }
   ],
   "source": [
    "def happynumber(n):\n",
    "    l=[]\n",
    "    while True:\n",
    "        a=0\n",
    "        for i in str(n):\n",
    "            a=int(i)**2+a\n",
    "            n=a\n",
    "\n",
    "        if n in l:\n",
    "            print(\"The number is not happy \")\n",
    "            break\n",
    "        if n==1:\n",
    "            print(\"The number is happy\")\n",
    "            break\n",
    "        else:\n",
    "            l=[4]\n",
    "            l.append(n)\n",
    "            continue\n",
    "            \n",
    "happynumber(7)\n",
    "happynumber(998)\n",
    "happynumber(11)\n",
    "        \n",
    "    "
   ]
  },
  {
   "cell_type": "markdown",
   "id": "e8776b2a",
   "metadata": {},
   "source": [
    "# 4. Write a Python program to print all happy numbers between 1 and 100?"
   ]
  },
  {
   "cell_type": "code",
   "execution_count": 9,
   "id": "21953acf",
   "metadata": {},
   "outputs": [
    {
     "data": {
      "text/plain": [
       "[1, 7, 10, 13, 19, 23, 28, 31, 32, 44, 49, 68, 70, 79, 82, 86, 91, 94, 97, 100]"
      ]
     },
     "execution_count": 9,
     "metadata": {},
     "output_type": "execute_result"
    }
   ],
   "source": [
    "def happy_number_range(g,h):\n",
    "    happy_number=[]\n",
    "    for n in range(g,h+1):\n",
    "        k=n\n",
    "        l=[]\n",
    "        while True:\n",
    "            a=0\n",
    "            for i in str(n):\n",
    "                a=int(i)**2+a\n",
    "                n=a\n",
    "            if n in l:\n",
    "                break\n",
    "            if n==1:\n",
    "                happy_number.append(k)\n",
    "                break\n",
    "            else:\n",
    "                l=[4]\n",
    "                l.append(n)\n",
    "                continue\n",
    "    return(happy_number)\n",
    "\n",
    "happy_number_range(1,100)"
   ]
  },
  {
   "cell_type": "markdown",
   "id": "8081eb12",
   "metadata": {},
   "source": [
    "# 5. Write a Python program to determine whether the given number is a Harshad Number?"
   ]
  },
  {
   "cell_type": "code",
   "execution_count": 14,
   "id": "d53be5f9",
   "metadata": {},
   "outputs": [
    {
     "name": "stdout",
     "output_type": "stream",
     "text": [
      "Enter the number20\n",
      "The number is harshad\n"
     ]
    }
   ],
   "source": [
    "k=input(\"Enter the number\")\n",
    "div=0\n",
    "for i in k:\n",
    "    div=div+int(i)\n",
    "if int(k)%div==0:\n",
    "    print(\"The number is harshad\")\n",
    "else:\n",
    "    print(\"The number is not harshad\")\n",
    "    "
   ]
  },
  {
   "cell_type": "markdown",
   "id": "ce97528f",
   "metadata": {},
   "source": [
    "# 6. Write a Python program to print all pronic numbers between 1 and 100?"
   ]
  },
  {
   "cell_type": "code",
   "execution_count": 32,
   "id": "d770b9c7",
   "metadata": {},
   "outputs": [
    {
     "data": {
      "text/plain": [
       "[6, 12, 20, 30, 42, 56, 72, 90]"
      ]
     },
     "execution_count": 32,
     "metadata": {},
     "output_type": "execute_result"
    }
   ],
   "source": [
    "def pronic(m,n):\n",
    "    pronic_list=[]\n",
    "    for i in range(m,n):\n",
    "        k=1\n",
    "        for j in range(1,i):\n",
    "            l=k*j\n",
    "            k=j\n",
    "            if l==i:\n",
    "                pronic_list.append(i)\n",
    "    return pronic_list\n",
    "\n",
    "pronic(1,100)\n",
    "        \n",
    "        \n",
    "        \n",
    "        \n",
    "        \n",
    "    "
   ]
  },
  {
   "cell_type": "code",
   "execution_count": null,
   "id": "f9eae8b6",
   "metadata": {},
   "outputs": [],
   "source": []
  }
 ],
 "metadata": {
  "kernelspec": {
   "display_name": "Python 3 (ipykernel)",
   "language": "python",
   "name": "python3"
  },
  "language_info": {
   "codemirror_mode": {
    "name": "ipython",
    "version": 3
   },
   "file_extension": ".py",
   "mimetype": "text/x-python",
   "name": "python",
   "nbconvert_exporter": "python",
   "pygments_lexer": "ipython3",
   "version": "3.9.12"
  }
 },
 "nbformat": 4,
 "nbformat_minor": 5
}
