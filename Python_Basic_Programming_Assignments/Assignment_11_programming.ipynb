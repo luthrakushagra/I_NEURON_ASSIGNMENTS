{
 "cells": [
  {
   "cell_type": "markdown",
   "id": "6c8d51aa",
   "metadata": {},
   "source": [
    "# Assignment_11_programming"
   ]
  },
  {
   "cell_type": "markdown",
   "id": "e6fa90d5",
   "metadata": {},
   "source": [
    "1. Write a Python program to find words which are greater than given length k?\n",
    "\n",
    "\n",
    "7. Write a Python Program to check if a string contains any special character?\n",
    "\n",
    "\n",
    "\n"
   ]
  },
  {
   "cell_type": "code",
   "execution_count": 24,
   "id": "eb89e2ba",
   "metadata": {},
   "outputs": [
    {
     "name": "stdout",
     "output_type": "stream",
     "text": [
      "Enter the sentence Kushagra is a very goood person\n",
      "Enter the minimum length of the word you want to see 3\n"
     ]
    },
    {
     "data": {
      "text/plain": [
       "'Kushagra,very,goood,person'"
      ]
     },
     "execution_count": 24,
     "metadata": {},
     "output_type": "execute_result"
    }
   ],
   "source": [
    "def checklength():  \n",
    "    word=input(\"Enter the sentence \")\n",
    "    length=int(input(\"Enter the minimum length of the word you want to see \"))\n",
    "    splited=word.split(\" \")\n",
    "    fnl=[]\n",
    "    for i in splited:\n",
    "        if len(i)>length:\n",
    "            fnl.append(i)\n",
    "\n",
    "    return(','.join(fnl))\n",
    "checklength()\n",
    "    \n",
    "    \n",
    "\n",
    "    \n",
    "    \n",
    "    \n",
    "    "
   ]
  },
  {
   "cell_type": "markdown",
   "id": "bfce7c54",
   "metadata": {},
   "source": [
    "#  2.Write a Python program for removing i-th character from a string?"
   ]
  },
  {
   "cell_type": "code",
   "execution_count": 41,
   "id": "20324bfd",
   "metadata": {},
   "outputs": [
    {
     "name": "stdout",
     "output_type": "stream",
     "text": [
      "Enter the stringKushagra\n",
      "Enter the number you wanted to remove1\n",
      " Kshagra\n"
     ]
    }
   ],
   "source": [
    "k=input(\"Enter the string\")\n",
    "n=' '\n",
    "l=int(input(\"Enter the number you wanted to remove\"))\n",
    "for i in range(len(k)):\n",
    "    if i!=l:\n",
    "        n=n+k[i]\n",
    "print(n)\n",
    "\n",
    "    \n",
    "    "
   ]
  },
  {
   "cell_type": "markdown",
   "id": "278f6165",
   "metadata": {},
   "source": [
    "# 3. Write a Python program to split and join a string?"
   ]
  },
  {
   "cell_type": "code",
   "execution_count": 48,
   "id": "9ec44104",
   "metadata": {},
   "outputs": [
    {
     "name": "stdout",
     "output_type": "stream",
     "text": [
      "Enter the string This course is really awesome\n",
      "['This', 'course', 'is', 'really', 'awesome']\n",
      "This course is really awesome\n"
     ]
    }
   ],
   "source": [
    "def splitjoin():\n",
    "    string=input(\"Enter the string \")\n",
    "    print(string.split(\" \"))\n",
    "    print(' '.join(string.split(\" \")))\n",
    "splitjoin()\n",
    "\n",
    "        \n",
    "    "
   ]
  },
  {
   "cell_type": "markdown",
   "id": "746f503b",
   "metadata": {},
   "source": [
    "# 4. Write a Python to check if a given string is binary string or not?"
   ]
  },
  {
   "cell_type": "code",
   "execution_count": 58,
   "id": "d99e48df",
   "metadata": {},
   "outputs": [
    {
     "name": "stdout",
     "output_type": "stream",
     "text": [
      "enter the string 0000\n",
      "The string is binary\n"
     ]
    }
   ],
   "source": [
    "k=input(\"enter the string \")\n",
    "for i in k:\n",
    "    if i in [\"0\" , '1']:\n",
    "        s=1\n",
    "        continue\n",
    "    else:\n",
    "        s=0\n",
    "        break\n",
    "if s==1:\n",
    "    print(\"The string is binary\")\n",
    "else:\n",
    "    print(\"The string is not binary\")\n",
    "        "
   ]
  },
  {
   "cell_type": "markdown",
   "id": "ddd740cf",
   "metadata": {},
   "source": [
    "# 5. Write a Python program to find uncommon words from two Strings?"
   ]
  },
  {
   "cell_type": "code",
   "execution_count": 90,
   "id": "7bd8c042",
   "metadata": {},
   "outputs": [
    {
     "name": "stdout",
     "output_type": "stream",
     "text": [
      "Enter the first string kush is a good boy\n",
      "Enter the second string rohan is a good person\n",
      "{'person', 'rohan', 'kush', 'boy'}\n"
     ]
    }
   ],
   "source": [
    "def uncommon_words():  \n",
    "    string_1=set(input(\"Enter the first string \").split(' '))\n",
    "    string_2=set(input(\"Enter the second string \").split(' '))\n",
    "    f_string=print((string_1.union(string_2)).difference(string_1.intersection(string_2)))\n",
    "            \n",
    "uncommon_words()\n",
    "\n",
    "    "
   ]
  },
  {
   "cell_type": "markdown",
   "id": "1bdb01a9",
   "metadata": {},
   "source": [
    "# 6. Write a Python to find all duplicate characters in string?"
   ]
  },
  {
   "cell_type": "code",
   "execution_count": 112,
   "id": "679f741b",
   "metadata": {},
   "outputs": [
    {
     "name": "stdout",
     "output_type": "stream",
     "text": [
      "{'o', 'g', ' ', 's', 'i'}\n"
     ]
    }
   ],
   "source": [
    "k=\"kush is a good singer\"\n",
    "l=[]\n",
    "p=[]\n",
    "for i in k:\n",
    "    if i not in l:\n",
    "        l.append(i)\n",
    "    else:\n",
    "        p.append(i)\n",
    "print(set(p))\n",
    "      \n",
    "    "
   ]
  },
  {
   "cell_type": "markdown",
   "id": "6f3c6be9",
   "metadata": {},
   "source": [
    "# 7.Write a Python Program to check if a string contains any special character?"
   ]
  },
  {
   "cell_type": "code",
   "execution_count": 117,
   "id": "c7d5fb63",
   "metadata": {},
   "outputs": [
    {
     "name": "stdout",
     "output_type": "stream",
     "text": [
      "Enter the sentence  i am @in love !!!!\n",
      "['@', '!', '!', '!', '!']\n",
      "{'!', '@'}\n"
     ]
    }
   ],
   "source": [
    "spl_chars = '[@_!#$%^&*()<>?/\\|}{~:]'\n",
    "inp=input(\"Enter the sentence  \")\n",
    "sl=[]\n",
    "for i in inp:\n",
    "    if i in spl_chars:\n",
    "        sl.append(i)\n",
    "print(sl)\n",
    "print(set(sl))\n",
    "\n"
   ]
  },
  {
   "cell_type": "code",
   "execution_count": null,
   "id": "a10e5781",
   "metadata": {},
   "outputs": [],
   "source": []
  },
  {
   "cell_type": "code",
   "execution_count": null,
   "id": "0f85918b",
   "metadata": {},
   "outputs": [],
   "source": []
  }
 ],
 "metadata": {
  "kernelspec": {
   "display_name": "Python 3 (ipykernel)",
   "language": "python",
   "name": "python3"
  },
  "language_info": {
   "codemirror_mode": {
    "name": "ipython",
    "version": 3
   },
   "file_extension": ".py",
   "mimetype": "text/x-python",
   "name": "python",
   "nbconvert_exporter": "python",
   "pygments_lexer": "ipython3",
   "version": "3.9.12"
  }
 },
 "nbformat": 4,
 "nbformat_minor": 5
}
