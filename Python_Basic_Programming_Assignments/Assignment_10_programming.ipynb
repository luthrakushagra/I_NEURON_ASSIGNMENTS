{
 "cells": [
  {
   "cell_type": "markdown",
   "id": "6c8d51aa",
   "metadata": {},
   "source": [
    "# Assignment_10_programming"
   ]
  },
  {
   "cell_type": "markdown",
   "id": "e6fa90d5",
   "metadata": {},
   "source": [
    "## 1. Write a Python program to find sum of elements in list?\n",
    "\n",
    "\n",
    "\n",
    "\n",
    "11. Write a Python program to Count occurrences of an element in a list?\n",
    "\n",
    "\n",
    "\n",
    "\n"
   ]
  },
  {
   "cell_type": "code",
   "execution_count": 35,
   "id": "eb89e2ba",
   "metadata": {},
   "outputs": [
    {
     "name": "stdout",
     "output_type": "stream",
     "text": [
      "Enter the number of elements in your list5\n",
      "Enter the 1th element of your list  1\n",
      "Enter the 2th element of your list  2\n",
      "Enter the 3th element of your list  3\n",
      "Enter the 4th element of your list  4\n",
      "Enter the 5th element of your list  6\n",
      "The sum of your list is 16 \n"
     ]
    }
   ],
   "source": [
    "k=int(input(\"Enter the number of elements in your list\"))\n",
    "l=[]\n",
    "for i in range(1,k+1):\n",
    "    j=int(input(f\"Enter the {i}th element of your list  \"))\n",
    "    l.append(j)\n",
    "\n",
    "print(f\"The sum of your list is {sum(l)} \")\n",
    "    "
   ]
  },
  {
   "cell_type": "markdown",
   "id": "bfce7c54",
   "metadata": {},
   "source": [
    "#                                                   OR"
   ]
  },
  {
   "cell_type": "code",
   "execution_count": 50,
   "id": "20324bfd",
   "metadata": {},
   "outputs": [
    {
     "name": "stdout",
     "output_type": "stream",
     "text": [
      "Enter the number of elements in your list3\n",
      "Enter the 1th element of your list  5\n",
      "Enter the 2th element of your list  2\n",
      "Enter the 3th element of your list  3\n",
      "[5, 2, 3]\n",
      "The sum of your list is 10\n"
     ]
    }
   ],
   "source": [
    "k=int(input(\"Enter the number of elements in your list\"))\n",
    "l=[]\n",
    "for i in range(1,k+1):\n",
    "    j=int(input(f\"Enter the {i}th element of your list  \"))\n",
    "    l.append(j)\n",
    "print(l)\n",
    "s=0\n",
    "for a in range(len(l)):\n",
    "    s=s+l[a]\n",
    "print(f\"The sum of your list is {s}\")\n",
    "\n",
    "    \n",
    "    "
   ]
  },
  {
   "cell_type": "markdown",
   "id": "278f6165",
   "metadata": {},
   "source": [
    "# 2. Write a Python program to Multiply all numbers in the list?"
   ]
  },
  {
   "cell_type": "code",
   "execution_count": 49,
   "id": "9ec44104",
   "metadata": {},
   "outputs": [
    {
     "name": "stdout",
     "output_type": "stream",
     "text": [
      "Enter the number of elements in your list3\n",
      "Enter the 1th element of your list  2\n",
      "Enter the 2th element of your list  2\n",
      "Enter the 3th element of your list  2\n",
      "The list is [2, 2, 2]\n",
      "The Multiplication of your list is 8\n"
     ]
    }
   ],
   "source": [
    "k=int(input(\"Enter the number of elements in your list\"))\n",
    "l=[]\n",
    "for i in range(1,k+1):\n",
    "    j=int(input(f\"Enter the {i}th element of your list  \"))\n",
    "    l.append(j)\n",
    "print(f\"The list is {l}\")\n",
    "s=1\n",
    "for a in range(len(l)):\n",
    "    s=s*l[a]\n",
    "print(f\"The Multiplication of your list is {s}\")\n",
    "\n",
    "        \n",
    "    "
   ]
  },
  {
   "cell_type": "markdown",
   "id": "746f503b",
   "metadata": {},
   "source": [
    "# OR"
   ]
  },
  {
   "cell_type": "code",
   "execution_count": 51,
   "id": "d99e48df",
   "metadata": {},
   "outputs": [
    {
     "name": "stdout",
     "output_type": "stream",
     "text": [
      "Enter the number of elements in your list3\n",
      "Enter the 1th element of your list  2\n",
      "Enter the 2th element of your list  2\n",
      "Enter the 3th element of your list  2\n",
      "The sum of your list is 8 \n"
     ]
    }
   ],
   "source": [
    "import numpy as np\n",
    "k=int(input(\"Enter the number of elements in your list\"))\n",
    "l=[]\n",
    "for i in range(1,k+1):\n",
    "    j=int(input(f\"Enter the {i}th element of your list  \"))\n",
    "    l.append(j)\n",
    "\n",
    "print(f\"The sum of your list is {np.prod(l)} \")\n",
    "    "
   ]
  },
  {
   "cell_type": "markdown",
   "id": "ddd740cf",
   "metadata": {},
   "source": [
    "# 3. Write a Python program to find smallest number in a list?"
   ]
  },
  {
   "cell_type": "code",
   "execution_count": 75,
   "id": "7bd8c042",
   "metadata": {},
   "outputs": [
    {
     "name": "stdout",
     "output_type": "stream",
     "text": [
      "Enter the number of elements in your list 5\n",
      "Enter the 1th element of your list  -9\n",
      "Enter the 2th element of your list  -10\n",
      "Enter the 3th element of your list  0\n",
      "Enter the 4th element of your list  3\n",
      "Enter the 5th element of your list  2\n",
      "The list is [-9, -10, 0, 3, 2]\n",
      "The smallest number is -10 \n"
     ]
    }
   ],
   "source": [
    "k=int(input(\"Enter the number of elements in your list \"))\n",
    "l=[]\n",
    "for i in range(1,k+1):\n",
    "    j=int(input(f\"Enter the {i}th element of your list  \"))\n",
    "    l.append(j)\n",
    "print(f\"The list is {l}\")\n",
    "k=sorted(l)\n",
    "print(f\"The smallest number is {k[0]} \")\n",
    "\n",
    "\n",
    "\n",
    "    "
   ]
  },
  {
   "cell_type": "markdown",
   "id": "1b318cd8",
   "metadata": {},
   "source": [
    "# OR"
   ]
  },
  {
   "cell_type": "code",
   "execution_count": 72,
   "id": "679f741b",
   "metadata": {},
   "outputs": [
    {
     "name": "stdout",
     "output_type": "stream",
     "text": [
      "Enter the number of elements in your list 6\n",
      "Enter the 1th element of your list  -9\n",
      "Enter the 2th element of your list  -10\n",
      "Enter the 3th element of your list  3\n",
      "Enter the 4th element of your list  0\n",
      "Enter the 5th element of your list  3\n",
      "Enter the 6th element of your list  4\n",
      "The list is [-9, -10, 3, 0, 3, 4]\n",
      "The smallest number is -10\n"
     ]
    }
   ],
   "source": [
    "k=int(input(\"Enter the number of elements in your list \"))\n",
    "l=[]\n",
    "for i in range(1,k+1):\n",
    "    j=int(input(f\"Enter the {i}th element of your list  \"))\n",
    "    l.append(j)\n",
    "print(f\"The list is {l}\")\n",
    "min1=l[0]\n",
    "for i in l:\n",
    "    if i<min1:\n",
    "        min1=i\n",
    "print(f\"The smallest number is {min1}\")"
   ]
  },
  {
   "cell_type": "markdown",
   "id": "6f3c6be9",
   "metadata": {},
   "source": [
    "# OR"
   ]
  },
  {
   "cell_type": "code",
   "execution_count": 76,
   "id": "c7d5fb63",
   "metadata": {},
   "outputs": [
    {
     "name": "stdout",
     "output_type": "stream",
     "text": [
      "Enter the number of elements in your list 5\n",
      "Enter the 1th element of your list  -10\n",
      "Enter the 2th element of your list  -60\n",
      "Enter the 3th element of your list  0\n",
      "Enter the 4th element of your list  3\n",
      "Enter the 5th element of your list  2\n",
      "The list is [-10, -60, 0, 3, 2]\n",
      "The minimum number in the list is -60\n"
     ]
    }
   ],
   "source": [
    "k=int(input(\"Enter the number of elements in your list \"))\n",
    "l=[]\n",
    "for i in range(1,k+1):\n",
    "    j=int(input(f\"Enter the {i}th element of your list  \"))\n",
    "    l.append(j)\n",
    "print(f\"The list is {l}\")\n",
    "print(f\"The minimum number in the list is {min(l)}\")"
   ]
  },
  {
   "cell_type": "markdown",
   "id": "961e6101",
   "metadata": {},
   "source": [
    "# 4 Write a Python program to find largest number in a list?"
   ]
  },
  {
   "cell_type": "code",
   "execution_count": 78,
   "id": "5f73467c",
   "metadata": {},
   "outputs": [
    {
     "name": "stdout",
     "output_type": "stream",
     "text": [
      "Enter the number of elements in your list 5\n",
      "Enter the 1th element of your list  3\n",
      "Enter the 2th element of your list  20\n",
      "Enter the 3th element of your list  -50\n",
      "Enter the 4th element of your list  3\n",
      "Enter the 5th element of your list  0\n",
      "The list is [3, 20, -50, 3, 0]\n",
      "20 is the largest number in the list\n"
     ]
    }
   ],
   "source": [
    "k=int(input(\"Enter the number of elements in your list \"))\n",
    "l=[]\n",
    "for i in range(1,k+1):\n",
    "    j=int(input(f\"Enter the {i}th element of your list  \"))\n",
    "    l.append(j)\n",
    "print(f\"The list is {l}\")\n",
    "\n",
    "sn=l[0]\n",
    "for i in l:\n",
    "    if sn<i:\n",
    "        sn=i\n",
    "print(f\"{sn} is the largest number in the list\")\n",
    "    \n",
    "        \n",
    "        \n",
    "    "
   ]
  },
  {
   "cell_type": "markdown",
   "id": "b600d15f",
   "metadata": {},
   "source": [
    "# 5.Write a Python program to find second largest number in a list?"
   ]
  },
  {
   "cell_type": "code",
   "execution_count": 79,
   "id": "4a7439f5",
   "metadata": {},
   "outputs": [
    {
     "name": "stdout",
     "output_type": "stream",
     "text": [
      "Enter the number of elements in your list 5\n",
      "Enter the 1th element of your list  6\n",
      "Enter the 2th element of your list  2\n",
      "Enter the 3th element of your list  9\n",
      "Enter the 4th element of your list  10\n",
      "Enter the 5th element of your list  3\n",
      "The list is [6, 2, 9, 10, 3]\n",
      "The second largest number is 9\n"
     ]
    }
   ],
   "source": [
    "k=int(input(\"Enter the number of elements in your list \"))\n",
    "l=[]\n",
    "for i in range(1,k+1):\n",
    "    j=int(input(f\"Enter the {i}th element of your list  \"))\n",
    "    l.append(j)\n",
    "print(f\"The list is {l}\")\n",
    "print(f\"The second largest number is {sorted(l)[-2]}\")"
   ]
  },
  {
   "cell_type": "markdown",
   "id": "e9be0376",
   "metadata": {},
   "source": [
    "# 6. Write a Python program to find N largest elements from a list?"
   ]
  },
  {
   "cell_type": "code",
   "execution_count": 82,
   "id": "95a89027",
   "metadata": {},
   "outputs": [
    {
     "name": "stdout",
     "output_type": "stream",
     "text": [
      "Enter the number of elements in your list 10\n",
      "Enter the 1th element of your list  1\n",
      "Enter the 2th element of your list  2\n",
      "Enter the 3th element of your list  3\n",
      "Enter the 4th element of your list  4\n",
      "Enter the 5th element of your list  5\n",
      "Enter the 6th element of your list  6\n",
      "Enter the 7th element of your list  7\n",
      "Enter the 8th element of your list  8\n",
      "Enter the 9th element of your list  9\n",
      "Enter the 10th element of your list  10\n",
      "The list is [1, 2, 3, 4, 5, 6, 7, 8, 9, 10]\n",
      "The 4 largest number is [10, 9, 8, 7]\n"
     ]
    }
   ],
   "source": [
    "def nlargest(p):\n",
    "    k=int(input(\"Enter the number of elements in your list \"))\n",
    "    l=[]\n",
    "    for i in range(1,k+1):\n",
    "        j=int(input(f\"Enter the {i}th element of your list  \"))\n",
    "        l.append(j)\n",
    "    print(f\"The list is {l}\")\n",
    "    print(f\"The {p} largest number is {sorted(l, reverse=True)[0:p]}\")\n",
    "\n",
    "nlargest(4)\n",
    "    \n",
    "    "
   ]
  },
  {
   "cell_type": "markdown",
   "id": "9b81ece3",
   "metadata": {},
   "source": [
    "# 7. Write a Python program to print even numbers in a list?"
   ]
  },
  {
   "cell_type": "code",
   "execution_count": 87,
   "id": "ac6da3cb",
   "metadata": {},
   "outputs": [
    {
     "name": "stdout",
     "output_type": "stream",
     "text": [
      "Enter the number of elements in your list 6\n",
      "Enter the 1th element of your list  2\n",
      "Enter the 2th element of your list  2\n",
      "Enter the 3th element of your list  5\n",
      "Enter the 4th element of your list  6\n",
      "Enter the 5th element of your list  8\n",
      "Enter the 6th element of your list  2\n",
      "The list is [2, 2, 5, 6, 8, 2]\n",
      "The even numbers in your list is [2, 2, 6, 8, 2]\n"
     ]
    }
   ],
   "source": [
    "def evennumberlist():\n",
    "    k=int(input(\"Enter the number of elements in your list \"))\n",
    "    l=[]\n",
    "    for i in range(1,k+1):\n",
    "        j=int(input(f\"Enter the {i}th element of your list  \"))\n",
    "        l.append(j)\n",
    "    print(f\"The list is {l}\")\n",
    "    enl=[]\n",
    "    \n",
    "    for i in l:\n",
    "        if i%2==0:\n",
    "            enl.append(i)\n",
    "    print(f\"The even numbers in your list is {enl}\")\n",
    "evennumberlist()\n"
   ]
  },
  {
   "cell_type": "markdown",
   "id": "56829212",
   "metadata": {},
   "source": [
    "# 8. Write a Python program to print odd numbers in a List?"
   ]
  },
  {
   "cell_type": "code",
   "execution_count": 88,
   "id": "3c06092b",
   "metadata": {},
   "outputs": [
    {
     "name": "stdout",
     "output_type": "stream",
     "text": [
      "Enter the number of elements in your list 6\n",
      "Enter the 1th element of your list  2\n",
      "Enter the 2th element of your list  2\n",
      "Enter the 3th element of your list  5\n",
      "Enter the 4th element of your list  3\n",
      "Enter the 5th element of your list  6\n",
      "Enter the 6th element of your list  4\n",
      "The list is [2, 2, 5, 3, 6, 4]\n",
      "The odd numbers in your list is [5, 3]\n"
     ]
    }
   ],
   "source": [
    "def oddnumberlist():\n",
    "    k=int(input(\"Enter the number of elements in your list \"))\n",
    "    l=[]\n",
    "    for i in range(1,k+1):\n",
    "        j=int(input(f\"Enter the {i}th element of your list  \"))\n",
    "        l.append(j)\n",
    "    print(f\"The list is {l}\")\n",
    "    enl=[]\n",
    "    \n",
    "    for i in l:\n",
    "        if i%2!=0:\n",
    "            enl.append(i)\n",
    "    print(f\"The odd numbers in your list is {enl}\")\n",
    "oddnumberlist()"
   ]
  },
  {
   "cell_type": "markdown",
   "id": "480fceee",
   "metadata": {},
   "source": [
    "# 9. Write a Python program to Remove empty List from List?"
   ]
  },
  {
   "cell_type": "code",
   "execution_count": 96,
   "id": "487f93b6",
   "metadata": {},
   "outputs": [
    {
     "name": "stdout",
     "output_type": "stream",
     "text": [
      "Enter all  list: [[212,2,2,],[],[213,3,4,5]]\n",
      "Here is the removed list [[212, 2, 2], [213, 3, 4, 5]]\n"
     ]
    }
   ],
   "source": [
    "def remove_list():   \n",
    "    in_list = eval(input('Enter all  list: '))\n",
    "    for i in in_list:\n",
    "        if [] in in_list:\n",
    "            in_list.remove([])\n",
    "    print(f\"Here is the removed list {in_list}\")\n",
    "remove_list()\n",
    "\n",
    "        \n"
   ]
  },
  {
   "cell_type": "markdown",
   "id": "fc4bff3b",
   "metadata": {},
   "source": [
    "#  10. Write a Python program to Cloning or Copying a list?"
   ]
  },
  {
   "cell_type": "code",
   "execution_count": 101,
   "id": "a8168754",
   "metadata": {},
   "outputs": [
    {
     "name": "stdout",
     "output_type": "stream",
     "text": [
      "Enter the list[4,5,6,7]\n",
      "The original list is [4, 5, 6, 7],and the ID is 1796025831168\n",
      "The copied list is [4, 5, 6, 7],and the ID is 1796026106880\n"
     ]
    }
   ],
   "source": [
    "import copy\n",
    "def clone_list():\n",
    "    in_list = eval(input(\"Enter the list\"))\n",
    "    print(f\"The original list is {in_list},and the ID is {id(in_list)}\")\n",
    "    copied_list=in_list.copy()\n",
    "    print(f\"The copied list is {copied_list},and the ID is {id(copied_list)}\")\n",
    "clone_list()"
   ]
  },
  {
   "cell_type": "markdown",
   "id": "886cb23a",
   "metadata": {},
   "source": [
    "# 11. Write a Python program to Count occurrences of an element in a list? "
   ]
  },
  {
   "cell_type": "code",
   "execution_count": 103,
   "id": "dbc12b91",
   "metadata": {},
   "outputs": [
    {
     "name": "stdout",
     "output_type": "stream",
     "text": [
      "Enter the list[4, 5, 6,4,5,6,3,5,4,7]\n",
      "Enter the number you want to check in your list 4\n",
      " 4 is 3 times in the list [4, 5, 6, 4, 5, 6, 3, 5, 4, 7]\n"
     ]
    }
   ],
   "source": [
    "def checkoccurance():\n",
    "    in_list = eval(input(\"Enter the list\"))  # can directly put list here\n",
    "    nmbr=eval(input(\"Enter the number you want to check in your list \"))\n",
    "    count=0\n",
    "    if nmbr in in_list:\n",
    "        for i in in_list:\n",
    "            if i==nmbr:\n",
    "                count=count+1\n",
    "    print(f\" {nmbr} is {count} times in the list {in_list}\")\n",
    "checkoccurance()"
   ]
  },
  {
   "cell_type": "code",
   "execution_count": null,
   "id": "222ee62a",
   "metadata": {},
   "outputs": [],
   "source": []
  },
  {
   "cell_type": "code",
   "execution_count": null,
   "id": "b4991548",
   "metadata": {},
   "outputs": [],
   "source": []
  },
  {
   "cell_type": "code",
   "execution_count": null,
   "id": "025f76b2",
   "metadata": {},
   "outputs": [],
   "source": []
  },
  {
   "cell_type": "code",
   "execution_count": null,
   "id": "0a4cc0ae",
   "metadata": {},
   "outputs": [],
   "source": []
  }
 ],
 "metadata": {
  "kernelspec": {
   "display_name": "Python 3 (ipykernel)",
   "language": "python",
   "name": "python3"
  },
  "language_info": {
   "codemirror_mode": {
    "name": "ipython",
    "version": 3
   },
   "file_extension": ".py",
   "mimetype": "text/x-python",
   "name": "python",
   "nbconvert_exporter": "python",
   "pygments_lexer": "ipython3",
   "version": "3.9.12"
  }
 },
 "nbformat": 4,
 "nbformat_minor": 5
}
