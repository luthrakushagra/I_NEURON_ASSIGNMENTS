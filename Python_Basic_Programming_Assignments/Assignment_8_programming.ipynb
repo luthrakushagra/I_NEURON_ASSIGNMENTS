{
 "cells": [
  {
   "cell_type": "markdown",
   "id": "6c8d51aa",
   "metadata": {},
   "source": [
    "# Assignment_8_programming"
   ]
  },
  {
   "cell_type": "markdown",
   "id": "e6fa90d5",
   "metadata": {},
   "source": [
    "## Write a Python Program to Add Two Matrices?\n",
    "\n"
   ]
  },
  {
   "cell_type": "code",
   "execution_count": 17,
   "id": "1a4b2849",
   "metadata": {},
   "outputs": [
    {
     "name": "stdout",
     "output_type": "stream",
     "text": [
      "Enter the number of row   2\n",
      "Enter the number of coloumn   2\n",
      "Enter the 1 row * 1 coloumn  1\n",
      "Enter the 1 row * 2 coloumn  2\n",
      "Enter the 2 row * 1 coloumn  1\n",
      "Enter the 2 row * 2 coloumn  2\n",
      "The matrix A is [[1, 2], [1, 2]]\n",
      "Enter the 1 row * 1 coloumn  1\n",
      "Enter the 1 row * 2 coloumn  2\n",
      "Enter the 2 row * 1 coloumn  1\n",
      "Enter the 2 row * 2 coloumn  2\n",
      "The matrix B is [[1, 2], [1, 2]]\n",
      "The sum of matrices is [[2, 4], [2, 4]]\n"
     ]
    }
   ],
   "source": [
    "def matrices(m,n):\n",
    "    mat=[]\n",
    "    for i in range(1,m+1):\n",
    "        row=[]\n",
    "        for j in range(1,n+1):\n",
    "            line=int(input(f\"Enter the {i} row * {j} coloumn  \"))\n",
    "            row.append(line)\n",
    "        mat.append(row)\n",
    "    return mat\n",
    "\n",
    "def sum(A,B):\n",
    "    ans=[]\n",
    "    for i in range(len(A)):\n",
    "        row=[]\n",
    "        for j in range(len(A[0])):\n",
    "            row.append(A[i][j]+B[i][j])\n",
    "        ans.append(row)\n",
    "    return ans\n",
    "    \n",
    "m=int(input(\"Enter the number of row   \"))\n",
    "n=int(input(\"Enter the number of coloumn   \"))\n",
    "A=matrices(m,n)\n",
    "print(f\"The matrix A is {A}\")\n",
    "B=matrices(m,n)\n",
    "print(f\"The matrix B is {B}\")\n",
    "s=sum(A,B)\n",
    "print(f\"The sum of matrices is {s}\")"
   ]
  },
  {
   "cell_type": "markdown",
   "id": "5333d21e",
   "metadata": {},
   "source": [
    "##  Write a Python Program to Multiply Two Matrices?"
   ]
  },
  {
   "cell_type": "code",
   "execution_count": 24,
   "id": "b5f02c92",
   "metadata": {},
   "outputs": [
    {
     "name": "stdout",
     "output_type": "stream",
     "text": [
      "[21, 12, 17, 14]\n",
      "[48, 30, 41, 38]\n",
      "[75, 48, 65, 62]\n"
     ]
    }
   ],
   "source": [
    "A=[[1,2,3],\n",
    "   [4,5,6],\n",
    "   [7,8,9]]\n",
    "B=[[1,2,3,4],\n",
    "   [4,2,1,2],\n",
    "   [4,2,4,2]]\n",
    "C=[[0,0,0,0],\n",
    "   [0,0,0,0],\n",
    "   [0,0,0,0]]\n",
    "for i in range(len(A)):\n",
    "    for j in range(len(B[0])):\n",
    "        for k in range(len(B)):\n",
    "            C[i][j]+=A[i][k]*B[k][j]  \n",
    "            \n",
    "        \n",
    "for i in C:\n",
    "    print(i)\n",
    "    "
   ]
  },
  {
   "cell_type": "markdown",
   "id": "b78bc5a1",
   "metadata": {},
   "source": [
    "## Write a Python Program to Transpose a Matrix?"
   ]
  },
  {
   "cell_type": "code",
   "execution_count": 22,
   "id": "029ac278",
   "metadata": {},
   "outputs": [
    {
     "name": "stdout",
     "output_type": "stream",
     "text": [
      "[1, 4]\n",
      "[2, 5]\n",
      "[3, 6]\n"
     ]
    }
   ],
   "source": [
    "A=[[1,2,3],\n",
    "   [4,5,6]]\n",
    "T=[[0,0],\n",
    "   [0,0],\n",
    "   [0,0]]\n",
    "for i in range(len(A)):\n",
    "    for j in range(len(A[0])):\n",
    "        T[j][i]=A[i][j]\n",
    "for i in T:\n",
    "    print(i)"
   ]
  },
  {
   "cell_type": "markdown",
   "id": "36aba5b1",
   "metadata": {},
   "source": [
    "## Write a Python Program to Sort Words in Alphabetic Order?\n"
   ]
  },
  {
   "cell_type": "code",
   "execution_count": 2,
   "id": "2cd5ea8c",
   "metadata": {},
   "outputs": [
    {
     "name": "stdout",
     "output_type": "stream",
     "text": [
      "Enter a String: banana Apple fan Tomato bottle\n",
      "Apple Banana Bottle Fan Tomato\n"
     ]
    }
   ],
   "source": [
    "def sortString():\n",
    "    in_string = input(\"Enter a String: \").title()\n",
    "    sorted_list = sorted(in_string.split(' '))\n",
    "    print(' '.join(sorted_list))\n",
    "\n",
    "sortString()"
   ]
  },
  {
   "cell_type": "markdown",
   "id": "0fd38c3a",
   "metadata": {},
   "source": [
    "##  Write a Python Program to Remove Punctuation From a String?"
   ]
  },
  {
   "cell_type": "code",
   "execution_count": 4,
   "id": "6e970bd9",
   "metadata": {},
   "outputs": [
    {
     "name": "stdout",
     "output_type": "stream",
     "text": [
      "Enter your string i will remove punctuation  I am in love:) with Ineuron!!!!\n",
      "I am in love with Ineuron\n"
     ]
    }
   ],
   "source": [
    "def rempunc():\n",
    "    punctuation = '''!()-[]{};:'\"\\,<>./?@#$%^&*_~'''\n",
    "    string=input(\"Enter your string i will remove punctuation  \")\n",
    "    new=''\n",
    "    for i in string:\n",
    "        if i not in punctuation:\n",
    "            new += i\n",
    "    print(new)\n",
    "    \n",
    "rempunc()\n",
    "        "
   ]
  },
  {
   "cell_type": "code",
   "execution_count": null,
   "id": "5f441429",
   "metadata": {},
   "outputs": [],
   "source": []
  }
 ],
 "metadata": {
  "kernelspec": {
   "display_name": "Python 3 (ipykernel)",
   "language": "python",
   "name": "python3"
  },
  "language_info": {
   "codemirror_mode": {
    "name": "ipython",
    "version": 3
   },
   "file_extension": ".py",
   "mimetype": "text/x-python",
   "name": "python",
   "nbconvert_exporter": "python",
   "pygments_lexer": "ipython3",
   "version": "3.9.12"
  }
 },
 "nbformat": 4,
 "nbformat_minor": 5
}
